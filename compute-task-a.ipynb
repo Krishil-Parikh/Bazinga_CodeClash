{
 "cells": [
  {
   "cell_type": "code",
   "execution_count": 1,
   "id": "e1a5383d",
   "metadata": {
    "_cell_guid": "b1076dfc-b9ad-4769-8c92-a6c4dae69d19",
    "_uuid": "8f2839f25d086af736a60e9eeb907d3b93b6e0e5",
    "execution": {
     "iopub.execute_input": "2024-08-21T18:56:07.119948Z",
     "iopub.status.busy": "2024-08-21T18:56:07.119452Z",
     "iopub.status.idle": "2024-08-21T18:56:07.926834Z",
     "shell.execute_reply": "2024-08-21T18:56:07.925679Z"
    },
    "papermill": {
     "duration": 0.816042,
     "end_time": "2024-08-21T18:56:07.929212",
     "exception": false,
     "start_time": "2024-08-21T18:56:07.113170",
     "status": "completed"
    },
    "tags": []
   },
   "outputs": [
    {
     "name": "stdout",
     "output_type": "stream",
     "text": [
      "/kaggle/input/datase/listings_data.csv\n"
     ]
    }
   ],
   "source": [
    "# This Python 3 environment comes with many helpful analytics libraries installed\n",
    "# It is defined by the kaggle/python Docker image: https://github.com/kaggle/docker-python\n",
    "# For example, here's several helpful packages to load\n",
    "\n",
    "import numpy as np # linear algebra\n",
    "import pandas as pd # data processing, CSV file I/O (e.g. pd.read_csv)\n",
    "\n",
    "# Input data files are available in the read-only \"../input/\" directory\n",
    "# For example, running this (by clicking run or pressing Shift+Enter) will list all files under the input directory\n",
    "\n",
    "import os\n",
    "for dirname, _, filenames in os.walk('/kaggle/input'):\n",
    "    for filename in filenames:\n",
    "        print(os.path.join(dirname, filename))\n",
    "\n",
    "# You can write up to 20GB to the current directory (/kaggle/working/) that gets preserved as output when you create a version using \"Save & Run All\" \n",
    "# You can also write temporary files to /kaggle/temp/, but they won't be saved outside of the current session"
   ]
  },
  {
   "cell_type": "code",
   "execution_count": 2,
   "id": "b2df1b1c",
   "metadata": {
    "execution": {
     "iopub.execute_input": "2024-08-21T18:56:07.939942Z",
     "iopub.status.busy": "2024-08-21T18:56:07.938918Z",
     "iopub.status.idle": "2024-08-21T18:56:08.224156Z",
     "shell.execute_reply": "2024-08-21T18:56:08.223133Z"
    },
    "papermill": {
     "duration": 0.292685,
     "end_time": "2024-08-21T18:56:08.226354",
     "exception": false,
     "start_time": "2024-08-21T18:56:07.933669",
     "status": "completed"
    },
    "tags": []
   },
   "outputs": [
    {
     "data": {
      "text/html": [
       "<div>\n",
       "<style scoped>\n",
       "    .dataframe tbody tr th:only-of-type {\n",
       "        vertical-align: middle;\n",
       "    }\n",
       "\n",
       "    .dataframe tbody tr th {\n",
       "        vertical-align: top;\n",
       "    }\n",
       "\n",
       "    .dataframe thead th {\n",
       "        text-align: right;\n",
       "    }\n",
       "</style>\n",
       "<table border=\"1\" class=\"dataframe\">\n",
       "  <thead>\n",
       "    <tr style=\"text-align: right;\">\n",
       "      <th></th>\n",
       "      <th>listing_id</th>\n",
       "      <th>listing_name</th>\n",
       "      <th>host_id</th>\n",
       "      <th>host_name</th>\n",
       "      <th>borough</th>\n",
       "      <th>area</th>\n",
       "      <th>latitude</th>\n",
       "      <th>longitude</th>\n",
       "      <th>room_type</th>\n",
       "      <th>price (in dollars)</th>\n",
       "      <th>minimum_stay</th>\n",
       "      <th>no_of_reviews</th>\n",
       "      <th>last_review_date</th>\n",
       "      <th>reviews_per_month</th>\n",
       "      <th>host_listing_count</th>\n",
       "      <th>booking_availability</th>\n",
       "    </tr>\n",
       "  </thead>\n",
       "  <tbody>\n",
       "    <tr>\n",
       "      <th>0</th>\n",
       "      <td>2539</td>\n",
       "      <td>Clean &amp; quiet apt home by the park</td>\n",
       "      <td>2787</td>\n",
       "      <td>John</td>\n",
       "      <td>Brooklyn</td>\n",
       "      <td>Kensington</td>\n",
       "      <td>40.64749</td>\n",
       "      <td>-73.97237</td>\n",
       "      <td>Private room</td>\n",
       "      <td>149</td>\n",
       "      <td>1</td>\n",
       "      <td>9</td>\n",
       "      <td>19-10-2018</td>\n",
       "      <td>0.21</td>\n",
       "      <td>6</td>\n",
       "      <td>365</td>\n",
       "    </tr>\n",
       "    <tr>\n",
       "      <th>1</th>\n",
       "      <td>2595</td>\n",
       "      <td>Skylit Midtown Castle</td>\n",
       "      <td>2845</td>\n",
       "      <td>Jennifer</td>\n",
       "      <td>Manhattan</td>\n",
       "      <td>Midtown</td>\n",
       "      <td>40.75362</td>\n",
       "      <td>-73.98377</td>\n",
       "      <td>Entire home/apt</td>\n",
       "      <td>225</td>\n",
       "      <td>1</td>\n",
       "      <td>45</td>\n",
       "      <td>21-05-2019</td>\n",
       "      <td>0.38</td>\n",
       "      <td>2</td>\n",
       "      <td>355</td>\n",
       "    </tr>\n",
       "    <tr>\n",
       "      <th>2</th>\n",
       "      <td>3647</td>\n",
       "      <td>THE VILLAGE OF HARLEM....NEW YORK !</td>\n",
       "      <td>4632</td>\n",
       "      <td>Elisabeth</td>\n",
       "      <td>Manhattan</td>\n",
       "      <td>Harlem</td>\n",
       "      <td>40.80902</td>\n",
       "      <td>-73.94190</td>\n",
       "      <td>Private room</td>\n",
       "      <td>150</td>\n",
       "      <td>3</td>\n",
       "      <td>0</td>\n",
       "      <td>NaN</td>\n",
       "      <td>NaN</td>\n",
       "      <td>1</td>\n",
       "      <td>365</td>\n",
       "    </tr>\n",
       "    <tr>\n",
       "      <th>3</th>\n",
       "      <td>3831</td>\n",
       "      <td>Cozy Entire Floor of Brownstone</td>\n",
       "      <td>4869</td>\n",
       "      <td>LisaRoxanne</td>\n",
       "      <td>Brooklyn</td>\n",
       "      <td>Clinton Hill</td>\n",
       "      <td>40.68514</td>\n",
       "      <td>-73.95976</td>\n",
       "      <td>Entire home/apt</td>\n",
       "      <td>89</td>\n",
       "      <td>1</td>\n",
       "      <td>270</td>\n",
       "      <td>05-07-2019</td>\n",
       "      <td>4.64</td>\n",
       "      <td>1</td>\n",
       "      <td>194</td>\n",
       "    </tr>\n",
       "    <tr>\n",
       "      <th>4</th>\n",
       "      <td>5022</td>\n",
       "      <td>Entire Apt: Spacious Studio/Loft by central park</td>\n",
       "      <td>7192</td>\n",
       "      <td>Laura</td>\n",
       "      <td>Manhattan</td>\n",
       "      <td>East Harlem</td>\n",
       "      <td>40.79851</td>\n",
       "      <td>-73.94399</td>\n",
       "      <td>Entire home/apt</td>\n",
       "      <td>80</td>\n",
       "      <td>10</td>\n",
       "      <td>9</td>\n",
       "      <td>19-11-2018</td>\n",
       "      <td>0.10</td>\n",
       "      <td>1</td>\n",
       "      <td>0</td>\n",
       "    </tr>\n",
       "    <tr>\n",
       "      <th>...</th>\n",
       "      <td>...</td>\n",
       "      <td>...</td>\n",
       "      <td>...</td>\n",
       "      <td>...</td>\n",
       "      <td>...</td>\n",
       "      <td>...</td>\n",
       "      <td>...</td>\n",
       "      <td>...</td>\n",
       "      <td>...</td>\n",
       "      <td>...</td>\n",
       "      <td>...</td>\n",
       "      <td>...</td>\n",
       "      <td>...</td>\n",
       "      <td>...</td>\n",
       "      <td>...</td>\n",
       "      <td>...</td>\n",
       "    </tr>\n",
       "    <tr>\n",
       "      <th>48890</th>\n",
       "      <td>36484665</td>\n",
       "      <td>Charming one bedroom - newly renovated rowhouse</td>\n",
       "      <td>8232441</td>\n",
       "      <td>Sabrina</td>\n",
       "      <td>Brooklyn</td>\n",
       "      <td>Bedford-Stuyvesant</td>\n",
       "      <td>40.67853</td>\n",
       "      <td>-73.94995</td>\n",
       "      <td>Private room</td>\n",
       "      <td>70</td>\n",
       "      <td>2</td>\n",
       "      <td>0</td>\n",
       "      <td>NaN</td>\n",
       "      <td>NaN</td>\n",
       "      <td>2</td>\n",
       "      <td>9</td>\n",
       "    </tr>\n",
       "    <tr>\n",
       "      <th>48891</th>\n",
       "      <td>36485057</td>\n",
       "      <td>Affordable room in Bushwick/East Williamsburg</td>\n",
       "      <td>6570630</td>\n",
       "      <td>Marisol</td>\n",
       "      <td>Brooklyn</td>\n",
       "      <td>Bushwick</td>\n",
       "      <td>40.70184</td>\n",
       "      <td>-73.93317</td>\n",
       "      <td>Private room</td>\n",
       "      <td>40</td>\n",
       "      <td>4</td>\n",
       "      <td>0</td>\n",
       "      <td>NaN</td>\n",
       "      <td>NaN</td>\n",
       "      <td>2</td>\n",
       "      <td>36</td>\n",
       "    </tr>\n",
       "    <tr>\n",
       "      <th>48892</th>\n",
       "      <td>36485431</td>\n",
       "      <td>Sunny Studio at Historical Neighborhood</td>\n",
       "      <td>23492952</td>\n",
       "      <td>Ilgar &amp; Aysel</td>\n",
       "      <td>Manhattan</td>\n",
       "      <td>Harlem</td>\n",
       "      <td>40.81475</td>\n",
       "      <td>-73.94867</td>\n",
       "      <td>Entire home/apt</td>\n",
       "      <td>115</td>\n",
       "      <td>10</td>\n",
       "      <td>0</td>\n",
       "      <td>NaN</td>\n",
       "      <td>NaN</td>\n",
       "      <td>1</td>\n",
       "      <td>27</td>\n",
       "    </tr>\n",
       "    <tr>\n",
       "      <th>48893</th>\n",
       "      <td>36485609</td>\n",
       "      <td>43rd St. Time Square-cozy single bed</td>\n",
       "      <td>30985759</td>\n",
       "      <td>Taz</td>\n",
       "      <td>Manhattan</td>\n",
       "      <td>Hell's Kitchen</td>\n",
       "      <td>40.75751</td>\n",
       "      <td>-73.99112</td>\n",
       "      <td>Shared room</td>\n",
       "      <td>55</td>\n",
       "      <td>1</td>\n",
       "      <td>0</td>\n",
       "      <td>NaN</td>\n",
       "      <td>NaN</td>\n",
       "      <td>6</td>\n",
       "      <td>2</td>\n",
       "    </tr>\n",
       "    <tr>\n",
       "      <th>48894</th>\n",
       "      <td>36487245</td>\n",
       "      <td>Trendy duplex in the very heart of Hell's Kitchen</td>\n",
       "      <td>68119814</td>\n",
       "      <td>Christophe</td>\n",
       "      <td>Manhattan</td>\n",
       "      <td>Hell's Kitchen</td>\n",
       "      <td>40.76404</td>\n",
       "      <td>-73.98933</td>\n",
       "      <td>Private room</td>\n",
       "      <td>90</td>\n",
       "      <td>7</td>\n",
       "      <td>0</td>\n",
       "      <td>NaN</td>\n",
       "      <td>NaN</td>\n",
       "      <td>1</td>\n",
       "      <td>23</td>\n",
       "    </tr>\n",
       "  </tbody>\n",
       "</table>\n",
       "<p>48895 rows × 16 columns</p>\n",
       "</div>"
      ],
      "text/plain": [
       "       listing_id                                       listing_name  \\\n",
       "0            2539                 Clean & quiet apt home by the park   \n",
       "1            2595                              Skylit Midtown Castle   \n",
       "2            3647                THE VILLAGE OF HARLEM....NEW YORK !   \n",
       "3            3831                    Cozy Entire Floor of Brownstone   \n",
       "4            5022   Entire Apt: Spacious Studio/Loft by central park   \n",
       "...           ...                                                ...   \n",
       "48890    36484665    Charming one bedroom - newly renovated rowhouse   \n",
       "48891    36485057      Affordable room in Bushwick/East Williamsburg   \n",
       "48892    36485431            Sunny Studio at Historical Neighborhood   \n",
       "48893    36485609               43rd St. Time Square-cozy single bed   \n",
       "48894    36487245  Trendy duplex in the very heart of Hell's Kitchen   \n",
       "\n",
       "        host_id      host_name    borough                area  latitude  \\\n",
       "0          2787           John   Brooklyn          Kensington  40.64749   \n",
       "1          2845       Jennifer  Manhattan             Midtown  40.75362   \n",
       "2          4632      Elisabeth  Manhattan              Harlem  40.80902   \n",
       "3          4869    LisaRoxanne   Brooklyn        Clinton Hill  40.68514   \n",
       "4          7192          Laura  Manhattan         East Harlem  40.79851   \n",
       "...         ...            ...        ...                 ...       ...   \n",
       "48890   8232441        Sabrina   Brooklyn  Bedford-Stuyvesant  40.67853   \n",
       "48891   6570630        Marisol   Brooklyn            Bushwick  40.70184   \n",
       "48892  23492952  Ilgar & Aysel  Manhattan              Harlem  40.81475   \n",
       "48893  30985759            Taz  Manhattan      Hell's Kitchen  40.75751   \n",
       "48894  68119814     Christophe  Manhattan      Hell's Kitchen  40.76404   \n",
       "\n",
       "       longitude        room_type  price (in dollars)  minimum_stay  \\\n",
       "0      -73.97237     Private room                 149             1   \n",
       "1      -73.98377  Entire home/apt                 225             1   \n",
       "2      -73.94190     Private room                 150             3   \n",
       "3      -73.95976  Entire home/apt                  89             1   \n",
       "4      -73.94399  Entire home/apt                  80            10   \n",
       "...          ...              ...                 ...           ...   \n",
       "48890  -73.94995     Private room                  70             2   \n",
       "48891  -73.93317     Private room                  40             4   \n",
       "48892  -73.94867  Entire home/apt                 115            10   \n",
       "48893  -73.99112      Shared room                  55             1   \n",
       "48894  -73.98933     Private room                  90             7   \n",
       "\n",
       "       no_of_reviews last_review_date  reviews_per_month  host_listing_count  \\\n",
       "0                  9       19-10-2018               0.21                   6   \n",
       "1                 45       21-05-2019               0.38                   2   \n",
       "2                  0              NaN                NaN                   1   \n",
       "3                270       05-07-2019               4.64                   1   \n",
       "4                  9       19-11-2018               0.10                   1   \n",
       "...              ...              ...                ...                 ...   \n",
       "48890              0              NaN                NaN                   2   \n",
       "48891              0              NaN                NaN                   2   \n",
       "48892              0              NaN                NaN                   1   \n",
       "48893              0              NaN                NaN                   6   \n",
       "48894              0              NaN                NaN                   1   \n",
       "\n",
       "       booking_availability  \n",
       "0                       365  \n",
       "1                       355  \n",
       "2                       365  \n",
       "3                       194  \n",
       "4                         0  \n",
       "...                     ...  \n",
       "48890                     9  \n",
       "48891                    36  \n",
       "48892                    27  \n",
       "48893                     2  \n",
       "48894                    23  \n",
       "\n",
       "[48895 rows x 16 columns]"
      ]
     },
     "execution_count": 2,
     "metadata": {},
     "output_type": "execute_result"
    }
   ],
   "source": [
    "pd_df=pd.read_csv(\"/kaggle/input/datase/listings_data.csv\")\n",
    "pd_df"
   ]
  },
  {
   "cell_type": "code",
   "execution_count": 3,
   "id": "2219d585",
   "metadata": {
    "execution": {
     "iopub.execute_input": "2024-08-21T18:56:08.237280Z",
     "iopub.status.busy": "2024-08-21T18:56:08.236919Z",
     "iopub.status.idle": "2024-08-21T18:56:08.292181Z",
     "shell.execute_reply": "2024-08-21T18:56:08.291176Z"
    },
    "papermill": {
     "duration": 0.063204,
     "end_time": "2024-08-21T18:56:08.294284",
     "exception": false,
     "start_time": "2024-08-21T18:56:08.231080",
     "status": "completed"
    },
    "tags": []
   },
   "outputs": [
    {
     "data": {
      "text/html": [
       "<div>\n",
       "<style scoped>\n",
       "    .dataframe tbody tr th:only-of-type {\n",
       "        vertical-align: middle;\n",
       "    }\n",
       "\n",
       "    .dataframe tbody tr th {\n",
       "        vertical-align: top;\n",
       "    }\n",
       "\n",
       "    .dataframe thead th {\n",
       "        text-align: right;\n",
       "    }\n",
       "</style>\n",
       "<table border=\"1\" class=\"dataframe\">\n",
       "  <thead>\n",
       "    <tr style=\"text-align: right;\">\n",
       "      <th></th>\n",
       "      <th>listing_id</th>\n",
       "      <th>host_id</th>\n",
       "      <th>latitude</th>\n",
       "      <th>longitude</th>\n",
       "      <th>price (in dollars)</th>\n",
       "      <th>minimum_stay</th>\n",
       "      <th>no_of_reviews</th>\n",
       "      <th>reviews_per_month</th>\n",
       "      <th>host_listing_count</th>\n",
       "      <th>booking_availability</th>\n",
       "    </tr>\n",
       "  </thead>\n",
       "  <tbody>\n",
       "    <tr>\n",
       "      <th>count</th>\n",
       "      <td>4.889500e+04</td>\n",
       "      <td>4.889500e+04</td>\n",
       "      <td>48895.000000</td>\n",
       "      <td>48895.000000</td>\n",
       "      <td>48895.000000</td>\n",
       "      <td>48895.000000</td>\n",
       "      <td>48895.000000</td>\n",
       "      <td>38843.000000</td>\n",
       "      <td>48895.000000</td>\n",
       "      <td>48895.000000</td>\n",
       "    </tr>\n",
       "    <tr>\n",
       "      <th>mean</th>\n",
       "      <td>1.901714e+07</td>\n",
       "      <td>6.762001e+07</td>\n",
       "      <td>40.728949</td>\n",
       "      <td>-73.952170</td>\n",
       "      <td>152.720687</td>\n",
       "      <td>7.029962</td>\n",
       "      <td>23.274466</td>\n",
       "      <td>1.373221</td>\n",
       "      <td>7.143982</td>\n",
       "      <td>112.781327</td>\n",
       "    </tr>\n",
       "    <tr>\n",
       "      <th>std</th>\n",
       "      <td>1.098311e+07</td>\n",
       "      <td>7.861097e+07</td>\n",
       "      <td>0.054530</td>\n",
       "      <td>0.046157</td>\n",
       "      <td>240.154170</td>\n",
       "      <td>20.510550</td>\n",
       "      <td>44.550582</td>\n",
       "      <td>1.680442</td>\n",
       "      <td>32.952519</td>\n",
       "      <td>131.622289</td>\n",
       "    </tr>\n",
       "    <tr>\n",
       "      <th>min</th>\n",
       "      <td>2.539000e+03</td>\n",
       "      <td>2.438000e+03</td>\n",
       "      <td>40.499790</td>\n",
       "      <td>-74.244420</td>\n",
       "      <td>0.000000</td>\n",
       "      <td>1.000000</td>\n",
       "      <td>0.000000</td>\n",
       "      <td>0.010000</td>\n",
       "      <td>1.000000</td>\n",
       "      <td>0.000000</td>\n",
       "    </tr>\n",
       "    <tr>\n",
       "      <th>25%</th>\n",
       "      <td>9.471945e+06</td>\n",
       "      <td>7.822033e+06</td>\n",
       "      <td>40.690100</td>\n",
       "      <td>-73.983070</td>\n",
       "      <td>69.000000</td>\n",
       "      <td>1.000000</td>\n",
       "      <td>1.000000</td>\n",
       "      <td>0.190000</td>\n",
       "      <td>1.000000</td>\n",
       "      <td>0.000000</td>\n",
       "    </tr>\n",
       "    <tr>\n",
       "      <th>50%</th>\n",
       "      <td>1.967728e+07</td>\n",
       "      <td>3.079382e+07</td>\n",
       "      <td>40.723070</td>\n",
       "      <td>-73.955680</td>\n",
       "      <td>106.000000</td>\n",
       "      <td>3.000000</td>\n",
       "      <td>5.000000</td>\n",
       "      <td>0.720000</td>\n",
       "      <td>1.000000</td>\n",
       "      <td>45.000000</td>\n",
       "    </tr>\n",
       "    <tr>\n",
       "      <th>75%</th>\n",
       "      <td>2.915218e+07</td>\n",
       "      <td>1.074344e+08</td>\n",
       "      <td>40.763115</td>\n",
       "      <td>-73.936275</td>\n",
       "      <td>175.000000</td>\n",
       "      <td>5.000000</td>\n",
       "      <td>24.000000</td>\n",
       "      <td>2.020000</td>\n",
       "      <td>2.000000</td>\n",
       "      <td>227.000000</td>\n",
       "    </tr>\n",
       "    <tr>\n",
       "      <th>max</th>\n",
       "      <td>3.648724e+07</td>\n",
       "      <td>2.743213e+08</td>\n",
       "      <td>40.913060</td>\n",
       "      <td>-73.712990</td>\n",
       "      <td>10000.000000</td>\n",
       "      <td>1250.000000</td>\n",
       "      <td>629.000000</td>\n",
       "      <td>58.500000</td>\n",
       "      <td>327.000000</td>\n",
       "      <td>365.000000</td>\n",
       "    </tr>\n",
       "  </tbody>\n",
       "</table>\n",
       "</div>"
      ],
      "text/plain": [
       "         listing_id       host_id      latitude     longitude  \\\n",
       "count  4.889500e+04  4.889500e+04  48895.000000  48895.000000   \n",
       "mean   1.901714e+07  6.762001e+07     40.728949    -73.952170   \n",
       "std    1.098311e+07  7.861097e+07      0.054530      0.046157   \n",
       "min    2.539000e+03  2.438000e+03     40.499790    -74.244420   \n",
       "25%    9.471945e+06  7.822033e+06     40.690100    -73.983070   \n",
       "50%    1.967728e+07  3.079382e+07     40.723070    -73.955680   \n",
       "75%    2.915218e+07  1.074344e+08     40.763115    -73.936275   \n",
       "max    3.648724e+07  2.743213e+08     40.913060    -73.712990   \n",
       "\n",
       "       price (in dollars)  minimum_stay  no_of_reviews  reviews_per_month  \\\n",
       "count        48895.000000  48895.000000   48895.000000       38843.000000   \n",
       "mean           152.720687      7.029962      23.274466           1.373221   \n",
       "std            240.154170     20.510550      44.550582           1.680442   \n",
       "min              0.000000      1.000000       0.000000           0.010000   \n",
       "25%             69.000000      1.000000       1.000000           0.190000   \n",
       "50%            106.000000      3.000000       5.000000           0.720000   \n",
       "75%            175.000000      5.000000      24.000000           2.020000   \n",
       "max          10000.000000   1250.000000     629.000000          58.500000   \n",
       "\n",
       "       host_listing_count  booking_availability  \n",
       "count        48895.000000          48895.000000  \n",
       "mean             7.143982            112.781327  \n",
       "std             32.952519            131.622289  \n",
       "min              1.000000              0.000000  \n",
       "25%              1.000000              0.000000  \n",
       "50%              1.000000             45.000000  \n",
       "75%              2.000000            227.000000  \n",
       "max            327.000000            365.000000  "
      ]
     },
     "execution_count": 3,
     "metadata": {},
     "output_type": "execute_result"
    }
   ],
   "source": [
    "pd_df.describe()"
   ]
  },
  {
   "cell_type": "code",
   "execution_count": 4,
   "id": "4a2a9c9d",
   "metadata": {
    "execution": {
     "iopub.execute_input": "2024-08-21T18:56:08.305826Z",
     "iopub.status.busy": "2024-08-21T18:56:08.305427Z",
     "iopub.status.idle": "2024-08-21T18:56:08.337944Z",
     "shell.execute_reply": "2024-08-21T18:56:08.336918Z"
    },
    "papermill": {
     "duration": 0.041016,
     "end_time": "2024-08-21T18:56:08.340337",
     "exception": false,
     "start_time": "2024-08-21T18:56:08.299321",
     "status": "completed"
    },
    "tags": []
   },
   "outputs": [
    {
     "name": "stdout",
     "output_type": "stream",
     "text": [
      "<class 'pandas.core.frame.DataFrame'>\n",
      "RangeIndex: 48895 entries, 0 to 48894\n",
      "Data columns (total 16 columns):\n",
      " #   Column                Non-Null Count  Dtype  \n",
      "---  ------                --------------  -----  \n",
      " 0   listing_id            48895 non-null  int64  \n",
      " 1   listing_name          48879 non-null  object \n",
      " 2   host_id               48895 non-null  int64  \n",
      " 3   host_name             48874 non-null  object \n",
      " 4   borough               48895 non-null  object \n",
      " 5   area                  48895 non-null  object \n",
      " 6   latitude              48895 non-null  float64\n",
      " 7   longitude             48895 non-null  float64\n",
      " 8   room_type             48895 non-null  object \n",
      " 9   price (in dollars)    48895 non-null  int64  \n",
      " 10  minimum_stay          48895 non-null  int64  \n",
      " 11  no_of_reviews         48895 non-null  int64  \n",
      " 12  last_review_date      38843 non-null  object \n",
      " 13  reviews_per_month     38843 non-null  float64\n",
      " 14  host_listing_count    48895 non-null  int64  \n",
      " 15  booking_availability  48895 non-null  int64  \n",
      "dtypes: float64(3), int64(7), object(6)\n",
      "memory usage: 6.0+ MB\n"
     ]
    }
   ],
   "source": [
    "pd_df.info()"
   ]
  },
  {
   "cell_type": "markdown",
   "id": "244338b6",
   "metadata": {
    "papermill": {
     "duration": 0.004902,
     "end_time": "2024-08-21T18:56:08.350636",
     "exception": false,
     "start_time": "2024-08-21T18:56:08.345734",
     "status": "completed"
    },
    "tags": []
   },
   "source": [
    "Looks like we got some missing values!! Lets get the exact number of missing values in each features"
   ]
  },
  {
   "cell_type": "code",
   "execution_count": 5,
   "id": "35477a3c",
   "metadata": {
    "execution": {
     "iopub.execute_input": "2024-08-21T18:56:08.362296Z",
     "iopub.status.busy": "2024-08-21T18:56:08.361930Z",
     "iopub.status.idle": "2024-08-21T18:56:08.382959Z",
     "shell.execute_reply": "2024-08-21T18:56:08.381850Z"
    },
    "papermill": {
     "duration": 0.029656,
     "end_time": "2024-08-21T18:56:08.385358",
     "exception": false,
     "start_time": "2024-08-21T18:56:08.355702",
     "status": "completed"
    },
    "tags": []
   },
   "outputs": [
    {
     "name": "stdout",
     "output_type": "stream",
     "text": [
      "listing_id                  0\n",
      "listing_name               16\n",
      "host_id                     0\n",
      "host_name                  21\n",
      "borough                     0\n",
      "area                        0\n",
      "latitude                    0\n",
      "longitude                   0\n",
      "room_type                   0\n",
      "price (in dollars)          0\n",
      "minimum_stay                0\n",
      "no_of_reviews               0\n",
      "last_review_date        10052\n",
      "reviews_per_month       10052\n",
      "host_listing_count          0\n",
      "booking_availability        0\n",
      "dtype: int64\n"
     ]
    }
   ],
   "source": [
    "print(pd_df.isnull().sum())"
   ]
  },
  {
   "cell_type": "markdown",
   "id": "ad4d72f5",
   "metadata": {
    "papermill": {
     "duration": 0.005015,
     "end_time": "2024-08-21T18:56:08.395566",
     "exception": false,
     "start_time": "2024-08-21T18:56:08.390551",
     "status": "completed"
    },
    "tags": []
   },
   "source": [
    "listing_name has 16 missing values.\n",
    "\n",
    "host_name has 21 missing values.\n",
    "\n",
    "last_review_date and reviews_per_month have 10,052 missing values each.\n",
    "\n",
    "**Both the review variables have higher missing values so\n",
    " We can ignore these variables for our analysis for now.**"
   ]
  },
  {
   "cell_type": "markdown",
   "id": "d780fde0",
   "metadata": {
    "papermill": {
     "duration": 0.004852,
     "end_time": "2024-08-21T18:56:08.405504",
     "exception": false,
     "start_time": "2024-08-21T18:56:08.400652",
     "status": "completed"
    },
    "tags": []
   },
   "source": [
    "# Max and the mean price for boroughs\n",
    "# \n"
   ]
  },
  {
   "cell_type": "code",
   "execution_count": 6,
   "id": "1e0a3a5b",
   "metadata": {
    "execution": {
     "iopub.execute_input": "2024-08-21T18:56:08.417142Z",
     "iopub.status.busy": "2024-08-21T18:56:08.416771Z",
     "iopub.status.idle": "2024-08-21T18:56:08.428212Z",
     "shell.execute_reply": "2024-08-21T18:56:08.427300Z"
    },
    "papermill": {
     "duration": 0.019868,
     "end_time": "2024-08-21T18:56:08.430391",
     "exception": false,
     "start_time": "2024-08-21T18:56:08.410523",
     "status": "completed"
    },
    "tags": []
   },
   "outputs": [
    {
     "data": {
      "text/plain": [
       "borough\n",
       "Bronx             1091\n",
       "Brooklyn         20104\n",
       "Manhattan        21661\n",
       "Queens            5666\n",
       "Staten Island      373\n",
       "Name: price (in dollars), dtype: int64"
      ]
     },
     "execution_count": 6,
     "metadata": {},
     "output_type": "execute_result"
    }
   ],
   "source": [
    "pd_df.groupby(\"borough\")[\"price (in dollars)\"].count()"
   ]
  },
  {
   "cell_type": "code",
   "execution_count": 7,
   "id": "3d41f6c9",
   "metadata": {
    "execution": {
     "iopub.execute_input": "2024-08-21T18:56:08.442730Z",
     "iopub.status.busy": "2024-08-21T18:56:08.442341Z",
     "iopub.status.idle": "2024-08-21T18:56:08.456898Z",
     "shell.execute_reply": "2024-08-21T18:56:08.455883Z"
    },
    "papermill": {
     "duration": 0.023318,
     "end_time": "2024-08-21T18:56:08.459118",
     "exception": false,
     "start_time": "2024-08-21T18:56:08.435800",
     "status": "completed"
    },
    "tags": []
   },
   "outputs": [
    {
     "data": {
      "text/plain": [
       "borough\n",
       "Bronx             2500\n",
       "Brooklyn         10000\n",
       "Manhattan        10000\n",
       "Queens           10000\n",
       "Staten Island     5000\n",
       "Name: price (in dollars), dtype: int64"
      ]
     },
     "execution_count": 7,
     "metadata": {},
     "output_type": "execute_result"
    }
   ],
   "source": [
    "pd_df.groupby(\"borough\")[\"price (in dollars)\"].max()"
   ]
  },
  {
   "cell_type": "code",
   "execution_count": 8,
   "id": "4388ab03",
   "metadata": {
    "execution": {
     "iopub.execute_input": "2024-08-21T18:56:08.471715Z",
     "iopub.status.busy": "2024-08-21T18:56:08.471324Z",
     "iopub.status.idle": "2024-08-21T18:56:08.485217Z",
     "shell.execute_reply": "2024-08-21T18:56:08.484151Z"
    },
    "papermill": {
     "duration": 0.022841,
     "end_time": "2024-08-21T18:56:08.487476",
     "exception": false,
     "start_time": "2024-08-21T18:56:08.464635",
     "status": "completed"
    },
    "tags": []
   },
   "outputs": [
    {
     "data": {
      "text/plain": [
       "borough\n",
       "Bronx             87.496792\n",
       "Brooklyn         124.383207\n",
       "Manhattan        196.875814\n",
       "Queens            99.517649\n",
       "Staten Island    114.812332\n",
       "Name: price (in dollars), dtype: float64"
      ]
     },
     "execution_count": 8,
     "metadata": {},
     "output_type": "execute_result"
    }
   ],
   "source": [
    " pd_df.groupby(\"borough\")[\"price (in dollars)\"].mean()"
   ]
  },
  {
   "cell_type": "markdown",
   "id": "d29013fb",
   "metadata": {
    "papermill": {
     "duration": 0.005363,
     "end_time": "2024-08-21T18:56:08.498416",
     "exception": false,
     "start_time": "2024-08-21T18:56:08.493053",
     "status": "completed"
    },
    "tags": []
   },
   "source": [
    "There are five boroughs bronx, Brooklyn, Manhattan, Queens, and Staten Island.Each of the boroughs has multiple neighborhoods or areas .\n",
    "\n",
    "Each of the neighborhoods had the house property listed with details like price and its location in terms of latitude and longitude."
   ]
  },
  {
   "cell_type": "markdown",
   "id": "3fc747ee",
   "metadata": {
    "papermill": {
     "duration": 0.0053,
     "end_time": "2024-08-21T18:56:08.509284",
     "exception": false,
     "start_time": "2024-08-21T18:56:08.503984",
     "status": "completed"
    },
    "tags": []
   },
   "source": [
    "# Analysis of price by Area and room type\n",
    "\n"
   ]
  },
  {
   "cell_type": "code",
   "execution_count": 9,
   "id": "c42d802d",
   "metadata": {
    "execution": {
     "iopub.execute_input": "2024-08-21T18:56:08.521704Z",
     "iopub.status.busy": "2024-08-21T18:56:08.521324Z",
     "iopub.status.idle": "2024-08-21T18:56:08.535576Z",
     "shell.execute_reply": "2024-08-21T18:56:08.534621Z"
    },
    "papermill": {
     "duration": 0.022817,
     "end_time": "2024-08-21T18:56:08.537527",
     "exception": false,
     "start_time": "2024-08-21T18:56:08.514710",
     "status": "completed"
    },
    "tags": []
   },
   "outputs": [
    {
     "data": {
      "text/plain": [
       "count               48895\n",
       "unique                  3\n",
       "top       Entire home/apt\n",
       "freq                25409\n",
       "Name: room_type, dtype: object"
      ]
     },
     "execution_count": 9,
     "metadata": {},
     "output_type": "execute_result"
    }
   ],
   "source": [
    "pd_df['room_type'].describe()"
   ]
  },
  {
   "cell_type": "code",
   "execution_count": 10,
   "id": "6a10a44b",
   "metadata": {
    "execution": {
     "iopub.execute_input": "2024-08-21T18:56:08.550358Z",
     "iopub.status.busy": "2024-08-21T18:56:08.549999Z",
     "iopub.status.idle": "2024-08-21T18:56:10.853652Z",
     "shell.execute_reply": "2024-08-21T18:56:10.852536Z"
    },
    "papermill": {
     "duration": 2.312746,
     "end_time": "2024-08-21T18:56:10.855930",
     "exception": false,
     "start_time": "2024-08-21T18:56:08.543184",
     "status": "completed"
    },
    "tags": []
   },
   "outputs": [
    {
     "data": {
      "text/plain": [
       "<Axes: xlabel='borough', ylabel='price (in dollars)'>"
      ]
     },
     "execution_count": 10,
     "metadata": {},
     "output_type": "execute_result"
    },
    {
     "data": {
      "image/png": "[encoded data removed]",
      "text/plain": [
       "<Figure size 640x480 with 1 Axes>"
      ]
     },
     "metadata": {},
     "output_type": "display_data"
    }
   ],
   "source": [
    "import seaborn as sns\n",
    "sns.barplot(x=\"borough\", y=\"price (in dollars)\", hue=\"room_type\", data=pd_df)"
   ]
  },
  {
   "cell_type": "markdown",
   "id": "0b3a5a4e",
   "metadata": {
    "papermill": {
     "duration": 0.005999,
     "end_time": "2024-08-21T18:56:10.868086",
     "exception": false,
     "start_time": "2024-08-21T18:56:10.862087",
     "status": "completed"
    },
    "tags": []
   },
   "source": [
    "Manhattan has the most number of property listings and has the most expensive rooms.\n",
    "\n",
    " Manhattan also has the most number of Entire home/app properties and is also popular among the neighborhood_group followed by Brookyln.\n",
    "\n",
    "Bronx and Staten Island have the least number of property listings"
   ]
  },
  {
   "cell_type": "code",
   "execution_count": null,
   "id": "eda395de",
   "metadata": {
    "papermill": {
     "duration": 0.005804,
     "end_time": "2024-08-21T18:56:10.879946",
     "exception": false,
     "start_time": "2024-08-21T18:56:10.874142",
     "status": "completed"
    },
    "tags": []
   },
   "outputs": [],
   "source": []
  }
 ],
 "metadata": {
  "kaggle": {
   "accelerator": "none",
   "dataSources": [
    {
     "datasetId": 5575765,
     "sourceId": 9220013,
     "sourceType": "datasetVersion"
    }
   ],
   "dockerImageVersionId": 30746,
   "isGpuEnabled": false,
   "isInternetEnabled": true,
   "language": "python",
   "sourceType": "notebook"
  },
  "kernelspec": {
   "display_name": "Python 3",
   "language": "python",
   "name": "python3"
  },
  "language_info": {
   "codemirror_mode": {
    "name": "ipython",
    "version": 3
   },
   "file_extension": ".py",
   "mimetype": "text/x-python",
   "name": "python",
   "nbconvert_exporter": "python",
   "pygments_lexer": "ipython3",
   "version": "3.10.13"
  },
  "papermill": {
   "default_parameters": {},
   "duration": 6.988852,
   "end_time": "2024-08-21T18:56:11.406370",
   "environment_variables": {},
   "exception": null,
   "input_path": "__notebook__.ipynb",
   "output_path": "__notebook__.ipynb",
   "parameters": {},
   "start_time": "2024-08-21T18:56:04.417518",
   "version": "2.5.0"
  }
 },
 "nbformat": 4,
 "nbformat_minor": 5
}
