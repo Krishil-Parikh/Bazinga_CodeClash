{
 "cells": [
  {
   "cell_type": "code",
   "execution_count": 1,
   "metadata": {
    "colab": {
     "base_uri": "https://localhost:8080/"
    },
    "executionInfo": {
     "elapsed": 70106,
     "status": "ok",
     "timestamp": 1722609257312,
     "user": {
      "displayName": "Mangal Dandekar",
      "userId": "12136019235932552125"
     },
     "user_tz": -330
    },
    "id": "3U5jOLXEgZjG",
    "outputId": "3164e68f-40b8-4c26-8208-d25b362b712a"
   },
   "outputs": [
    {
     "name": "stdout",
     "output_type": "stream",
     "text": [
      "Enter your initial balance: $1500\n",
      "\n",
      "ATM Menu:\n",
      "1. Check Balance\n",
      "2. Deposit Money\n",
      "3. Withdraw Money\n",
      "4. Exit\n",
      "Choose an option (1-4): 1\n",
      "Your current balance is: $1500.00\n",
      "\n",
      "ATM Menu:\n",
      "1. Check Balance\n",
      "2. Deposit Money\n",
      "3. Withdraw Money\n",
      "4. Exit\n",
      "Choose an option (1-4): 2\n",
      "Enter the amount to deposit: $200\n",
      "$200.00 has been deposited to your account.\n",
      "Your current balance is: $1700.00\n",
      "\n",
      "ATM Menu:\n",
      "1. Check Balance\n",
      "2. Deposit Money\n",
      "3. Withdraw Money\n",
      "4. Exit\n",
      "Choose an option (1-4): 1\n",
      "Your current balance is: $1700.00\n",
      "\n",
      "ATM Menu:\n",
      "1. Check Balance\n",
      "2. Deposit Money\n",
      "3. Withdraw Money\n",
      "4. Exit\n",
      "Choose an option (1-4): 600\n",
      "Invalid option. Please try again.\n",
      "\n",
      "ATM Menu:\n",
      "1. Check Balance\n",
      "2. Deposit Money\n",
      "3. Withdraw Money\n",
      "4. Exit\n",
      "Choose an option (1-4): 1\n",
      "Your current balance is: $1700.00\n",
      "\n",
      "ATM Menu:\n",
      "1. Check Balance\n",
      "2. Deposit Money\n",
      "3. Withdraw Money\n",
      "4. Exit\n",
      "Choose an option (1-4): 3\n",
      "Enter the amount to withdraw: $600\n",
      "$600.00 has been withdrawn from your account.\n",
      "Your current balance is: $1100.00\n",
      "\n",
      "ATM Menu:\n",
      "1. Check Balance\n",
      "2. Deposit Money\n",
      "3. Withdraw Money\n",
      "4. Exit\n",
      "Choose an option (1-4): 1\n",
      "Your current balance is: $1100.00\n",
      "\n",
      "ATM Menu:\n",
      "1. Check Balance\n",
      "2. Deposit Money\n",
      "3. Withdraw Money\n",
      "4. Exit\n",
      "Choose an option (1-4): 4\n",
      "Exiting... Thank you for using the ATM!\n"
     ]
    }
   ],
   "source": [
    "def check_balance(balance):\n",
    "    print(f\"Your current balance is: ${balance:.2f}\")\n",
    "\n",
    "def deposit_money(balance):\n",
    "    amount = float(input(\"Enter the amount to deposit: $\"))\n",
    "    if amount > 0:\n",
    "        balance += amount\n",
    "        print(f\"${amount:.2f} has been deposited to your account.\")\n",
    "    else:\n",
    "        print(\"Invalid deposit amount.\")\n",
    "    return balance\n",
    "\n",
    "def withdraw_money(balance):\n",
    "    amount = float(input(\"Enter the amount to withdraw: $\"))\n",
    "    if 0 < amount <= balance:\n",
    "        balance -= amount\n",
    "        print(f\"${amount:.2f} has been withdrawn from your account.\")\n",
    "    else:\n",
    "        print(\"Invalid withdrawal amount or insufficient funds.\")\n",
    "    return balance\n",
    "\n",
    "def atm_menu():\n",
    "    print(\"\\nATM Menu:\")\n",
    "    print(\"1. Check Balance\")\n",
    "    print(\"2. Deposit Money\")\n",
    "    print(\"3. Withdraw Money\")\n",
    "    print(\"4. Exit\")\n",
    "\n",
    "# Ask user to enter their initial balance\n",
    "balance = float(input(\"Enter your initial balance: $\"))\n",
    "\n",
    "while True:\n",
    "    atm_menu()\n",
    "    choice = input(\"Choose an option (1-4): \")\n",
    "\n",
    "    if choice == '1':\n",
    "        check_balance(balance)\n",
    "    elif choice == '2':\n",
    "        balance = deposit_money(balance)\n",
    "        check_balance(balance)\n",
    "    elif choice == '3':\n",
    "        balance = withdraw_money(balance)\n",
    "        check_balance(balance)\n",
    "    elif choice == '4':\n",
    "        print(\"Exiting... Thank you for using the ATM!\")\n",
    "        break\n",
    "    else:\n",
    "        print(\"Invalid option. Please try again.\")"
   ]
  },
  {
   "cell_type": "markdown",
   "metadata": {},
   "source": [
    "WordFrequencycounter"
   ]
  },
  {
   "cell_type": "code",
   "execution_count": null,
   "metadata": {},
   "outputs": [],
   "source": [
    "import string\n",
    "\n",
    "def word_frequency(text):\n",
    "    # Convert the text to lowercase\n",
    "    text1=text.lower()\n",
    "\n",
    "    # Split the text into words\n",
    "    words = text1.split()\n",
    "\n",
    "    # Count the frequency of each word\n",
    "    word_count = {}\n",
    "    for word in words:\n",
    "        if word in word_count:\n",
    "            word_count[word] += 1\n",
    "        else:\n",
    "            word_count[word] = 1\n",
    "\n",
    "    # Sort the words in alphabetical order\n",
    "    sorted_words = sorted(word_count.items())\n",
    "\n",
    "    # Print the frequency of each word\n",
    "    for word, count in sorted_words:\n",
    "        print(f'{word}: {count}')\n",
    "\n",
    "# Example usage\n",
    "text = input(\"enter\")\n",
    "word_frequency(text)\n"
   ]
  },
  {
   "cell_type": "markdown",
   "metadata": {},
   "source": [
    "palindrome"
   ]
  },
  {
   "cell_type": "code",
   "execution_count": 1,
   "metadata": {},
   "outputs": [
    {
     "name": "stdout",
     "output_type": "stream",
     "text": [
      "\"keyush hsuyek\" is a palindrome.\n"
     ]
    },
    {
     "data": {
      "text/plain": [
       "'keyushhsuyek'"
      ]
     },
     "execution_count": 1,
     "metadata": {},
     "output_type": "execute_result"
    }
   ],
   "source": [
    "# Accept input string from the user\n",
    "input_string = input(\"Enter a string to check if it is a palindrome: \")\n",
    "\n",
    "# Remove spaces and convert to lowercase\n",
    "cleaned_string = input_string.replace(\" \", \"\").lower()\n",
    "\n",
    "# Check if the cleaned string is equal to its reverse\n",
    "is_palindrome = cleaned_string == cleaned_string[::-1]\n",
    "\n",
    "# Print the result\n",
    "if is_palindrome:\n",
    "    print(f'\"{input_string}\" is a palindrome.')\n",
    "else:\n",
    "    print(f'\"{input_string}\" is not a palindrome.')\n",
    "\n",
    "cleaned_string"
   ]
  },
  {
   "cell_type": "markdown",
   "metadata": {},
   "source": [
    "anagram checker"
   ]
  },
  {
   "cell_type": "code",
   "execution_count": null,
   "metadata": {},
   "outputs": [],
   "source": [
    "# Input strings from the user\n",
    "string1 = input(\"Enter the first string: \")\n",
    "string2 = input(\"Enter the second string: \")\n",
    "\n",
    "# Remove spaces and convert to lowercase\n",
    "string1 = string1.replace(\" \", \"\").lower()\n",
    "string2 = string2.replace(\" \", \"\").lower()\n",
    "\n",
    "# Sort the characters in each string\n",
    "sorted_string1 = sorted(string1)\n",
    "sorted_string2 = sorted(string2)\n",
    "\n",
    "# Compare the sorted strings\n",
    "if sorted_string1 == sorted_string2:\n",
    "    print(\"The strings are anagrams.\")\n",
    "else:\n",
    "    print(\"The strings are not anagrams.\")\n"
   ]
  },
  {
   "cell_type": "markdown",
   "metadata": {},
   "source": [
    "longestwordfinder"
   ]
  },
  {
   "cell_type": "code",
   "execution_count": null,
   "metadata": {},
   "outputs": [],
   "source": [
    "import string\n",
    "\n",
    "# Input string\n",
    "input_string = input(\"enter your string\")\n",
    "\n",
    "# Remove punctuation using str.translate\n",
    "translator = str.maketrans('', '', string.punctuation)\n",
    "cleaned_string = input_string.translate(translator)\n",
    "\n",
    "# Split the cleaned string into words\n",
    "words = cleaned_string.split()\n",
    "\n",
    "# Find the longest word\n",
    "longest_word = \"\"\n",
    "for word in words:\n",
    "    if len(word) > len(longest_word):\n",
    "        longest_word = word\n",
    "\n",
    "# Print the longest word\n",
    "print(\"The longest word is:\", longest_word)"
   ]
  },
  {
   "cell_type": "markdown",
   "metadata": {},
   "source": [
    "dictonary operation"
   ]
  },
  {
   "cell_type": "code",
   "execution_count": null,
   "metadata": {},
   "outputs": [],
   "source": [
    "# Create an empty dictionary\n",
    "student_marks = {}\n",
    "\n",
    "# Take the number of students and their marks as input\n",
    "num_students = int(input(\"Enter the number of students: \"))\n",
    "\n",
    "for _ in range(num_students):\n",
    "    name = input(\"Enter student name: \")\n",
    "    marks = int(input(f\"Enter marks for {name}: \"))\n",
    "    student_marks[name] = marks\n",
    "\n",
    "# Calculate and display the average marks\n",
    "total_marks = sum(student_marks.values())\n",
    "average_marks = total_marks / num_students\n",
    "print(f\"Average marks: {average_marks:.2f}\")\n",
    "\n",
    "# Display the student with the highest and lowest marks\n",
    "highest_marks_student = max(student_marks, key=student_marks.get)\n",
    "lowest_marks_student = min(student_marks, key=student_marks.get)\n",
    "\n",
    "print(f\"Student with highest marks: {highest_marks_student} ({student_marks[highest_marks_student]})\")\n",
    "print(f\"Student with lowest marks: {lowest_marks_student} ({student_marks[lowest_marks_student]})\")\n",
    "\n",
    "# Update the dictionary by adding a new student's marks and display the updated dictionary\n",
    "new_student_name = input(\"Enter the new student name: \")\n",
    "new_student_marks = int(input(f\"Enter marks for {new_student_name}: \"))\n",
    "student_marks[new_student_name] = new_student_marks\n",
    "\n",
    "print(\"Updated dictionary of student marks:\")\n",
    "print(student_marks)\n"
   ]
  },
  {
   "cell_type": "markdown",
   "metadata": {},
   "source": [
    "sorting tuple"
   ]
  },
  {
   "cell_type": "code",
   "execution_count": 2,
   "metadata": {},
   "outputs": [
    {
     "name": "stdout",
     "output_type": "stream",
     "text": [
      "Sorted by age:\n",
      "('David', 20)\n",
      "('Bob', 25)\n",
      "('Alice', 30)\n",
      "('Charlie', 35)\n",
      "\n",
      "Sorted by name:\n",
      "('Alice', 30)\n",
      "('Bob', 25)\n",
      "('Charlie', 35)\n",
      "('David', 20)\n"
     ]
    }
   ],
   "source": [
    "# Create a list of tuples where each tuple contains a person's name and age\n",
    "people = [\n",
    "    (\"Alice\", 30),\n",
    "    (\"Bob\", 25),\n",
    "    (\"Charlie\", 35),\n",
    "    (\"David\", 20)\n",
    "]\n",
    "\n",
    "# Sort the list of tuples by age in ascending order\n",
    "# Convert each tuple to (age, name) for sorting by age\n",
    "people_by_age = [(age, name) for name, age in people]\n",
    "people_by_age.sort()  # Sort by age because age is the first element in the tuple\n",
    "\n",
    "# Convert back to (name, age) tuples\n",
    "people_sorted_by_age = [(name, age) for age, name in people_by_age]\n",
    "\n",
    "# Display the sorted list by age\n",
    "print(\"Sorted by age:\")\n",
    "for person in people_sorted_by_age:\n",
    "    print(person)\n",
    "\n",
    "# Sort the list of tuples by name in alphabetical order\n",
    "# Convert each tuple to (name, age) for sorting by name\n",
    "people_by_name = [(name, age) for name, age in people]\n",
    "people_by_name.sort()  # Sort by name, name is the first element\n",
    "\n",
    "# Display the sorted list by name\n",
    "print(\"\\nSorted by name:\")\n",
    "for person in people_by_name:\n",
    "    print(person)\n"
   ]
  },
  {
   "cell_type": "markdown",
   "metadata": {},
   "source": [
    "tuple based record"
   ]
  },
  {
   "cell_type": "code",
   "execution_count": 4,
   "metadata": {},
   "outputs": [
    {
     "name": "stdout",
     "output_type": "stream",
     "text": [
      "Student Records:\n",
      "Alice: Age = 20, Marks = 85\n",
      "Bob: Age = 22, Marks = 90\n",
      "Charlie: Age = 21, Marks = 78\n",
      "David: Age = 23, Marks = 88\n"
     ]
    },
    {
     "data": {
      "text/plain": [
       "{'Alice': {'age': 20, 'marks': 85},\n",
       " 'Bob': {'age': 22, 'marks': 90},\n",
       " 'Charlie': {'age': 21, 'marks': 78},\n",
       " 'David': {'age': 23, 'marks': 88}}"
      ]
     },
     "execution_count": 4,
     "metadata": {},
     "output_type": "execute_result"
    }
   ],
   "source": [
    "# Create a list of tuples where each tuple contains a student's name, age, and marks\n",
    "students_tuples = [\n",
    "    (\"Alice\", 20, 85),\n",
    "    (\"Bob\", 22, 90),\n",
    "    (\"Charlie\", 21, 78),\n",
    "    (\"David\", 23, 88)\n",
    "]\n",
    "\n",
    "# Convert the list of tuples into a dictionary\n",
    "students_dict = {}\n",
    "for name, age, marks in students_tuples:\n",
    "    students_dict[name] = {'age': age, 'marks': marks}\n",
    "\n",
    "# Display the student records\n",
    "print(\"Student Records:\")\n",
    "for name, info in students_dict.items():\n",
    "    print(f\"{name}: Age = {info['age']}, Marks = {info['marks']}\")\n",
    "    \n",
    "students_dict\n"
   ]
  },
  {
   "cell_type": "code",
   "execution_count": null,
   "metadata": {},
   "outputs": [],
   "source": [
    "# Define the recursive function to find GCD\n",
    "def gcd(a, b):\n",
    "    if b == 0:\n",
    "        return a\n",
    "    else:\n",
    "        return gcd(b, a % b)\n",
    "1\n",
    "# Take two integer inputs from the user\n",
    "num1 = int(input(\"Enter the first number: \"))\n",
    "num2 = int(input(\"Enter the second number: \"))\n",
    "\n",
    "# Display the GCD of the two numbers\n",
    "print(f\"The GCD of {num1} and {num2} is: {gcd(num1, num2)}\")\n"
   ]
  },
  {
   "cell_type": "code",
   "execution_count": 5,
   "metadata": {},
   "outputs": [
    {
     "name": "stdout",
     "output_type": "stream",
     "text": [
      "The reversed string is: tuuth\n"
     ]
    }
   ],
   "source": [
    "# Define the recursive function to reverse the string\n",
    "def reverse_string(s):\n",
    "    if len(s) == 0:\n",
    "        return s\n",
    "    else:\n",
    "        return s[-1] + reverse_string(s[:-1])\n",
    "\n",
    "# Take a string input from the user\n",
    "user_string = input(\"Enter a string: \")\n",
    "\n",
    "# Display the reversed string\n",
    "print(f\"The reversed string is: {reverse_string(user_string)}\")\n"
   ]
  },
  {
   "cell_type": "code",
   "execution_count": null,
   "metadata": {},
   "outputs": [],
   "source": [
    "# Define the recursive function to reverse the string\n",
    "def reverse_string(s):\n",
    "    if len(s) == 0:\n",
    "        return s\n",
    "    else:\n",
    "        return s[-1] + reverse_string(s[:-1])\n",
    "\n",
    "# Take a string input from the user\n",
    "user_string = input(\"Enter a string: \")\n",
    "\n",
    "# Display the reversed string\n",
    "print(f\"The reversed string is: {reverse_string(user_string)}\")\n"
   ]
  },
  {
   "cell_type": "code",
   "execution_count": null,
   "metadata": {},
   "outputs": [],
   "source": [
    "# Define two lists of equal length\n",
    "list1 = [1, 2, 3, 4]\n",
    "list2 = ['a', 'b', 'c', 'd']\n",
    "\n",
    "# Combine the lists element-wise into a list of tuples using map() and lambda\n",
    "combined_list = list(map(lambda x, y: (x, y), list1, list2))\n",
    "\n",
    "# Display the resulting list of tuples\n",
    "print(combined_list)\n"
   ]
  },
  {
   "cell_type": "code",
   "execution_count": 5,
   "metadata": {},
   "outputs": [
    {
     "name": "stdout",
     "output_type": "stream",
     "text": [
      "List of odd numbers: []\n"
     ]
    }
   ],
   "source": [
    "def filter_odd_numbers(numbers):\n",
    "    # Use filter() with lambda to keep only odd numbers\n",
    "    odd_numbers = filter(lambda x: x % 2 != 0, numbers)\n",
    "    # Convert the filter object to a list\n",
    "    return list(odd_numbers)\n",
    "\n",
    "# Main function to execute the program\n",
    "def main():\n",
    "    # Take a list of integers as input from the user\n",
    "    input_list = input(\"Enter a list of integers separated by spaces: \")\n",
    "    # Convert the input string to a list of integers\n",
    "    numbers = list(map(int, input_list.split()))\n",
    "\n",
    "    # Get the filtered list of odd numbers\n",
    "    result = filter_odd_numbers(numbers)\n",
    "\n",
    "    # Display the resulting list of odd numbers\n",
    "    print(\"List of odd numbers:\", result)\n",
    "\n",
    "# Run the main function\n",
    "if __name__ == \"__main__\":\n",
    "    main()\n"
   ]
  },
  {
   "cell_type": "markdown",
   "metadata": {},
   "source": [
    "counter deco"
   ]
  },
  {
   "cell_type": "code",
   "execution_count": null,
   "metadata": {},
   "outputs": [],
   "source": [
    "def count_calls(func):\n",
    "    count_calls.counter=0\n",
    "    def wrapper():\n",
    "        count_calls.counter+=1\n",
    "        print(f\"'{func.__name__}'has been called {count_calls.counter}\")\n",
    "        func()\n",
    "    return wrapper \n",
    "@count_calls\n",
    "def display():\n",
    "    print(\"this is a sample\")\n",
    "\n",
    "display()\n",
    "display()\n"
   ]
  },
  {
   "cell_type": "code",
   "execution_count": null,
   "metadata": {},
   "outputs": [],
   "source": [
    "# Define the decorator to add a greeting message\n",
    "def add_greeting(func):\n",
    "    def wrapper(name):\n",
    "        print(\"Hello!\")  # Print greeting before executing the function\n",
    "        func(name)  # Execute the original function\n",
    "    return wrapper\n",
    "\n",
    "# Apply the decorator to a function that prints the user's name\n",
    "@add_greeting\n",
    "def print_name(name):\n",
    "    print(f\"My name is {name}\")\n",
    "\n",
    "# Call the decorated function with a sample name\n",
    "print_name(\"Alice\")\n"
   ]
  },
  {
   "cell_type": "code",
   "execution_count": 6,
   "metadata": {},
   "outputs": [
    {
     "name": "stdout",
     "output_type": "stream",
     "text": [
      "Task is being performed...\n",
      "Function 'perform_task' executed in 2.0015 seconds\n"
     ]
    }
   ],
   "source": [
    "import time\n",
    "\n",
    "# Define the decorator to measure the execution time\n",
    "def simple_timer(func):\n",
    "    def wrapper():\n",
    "        start_time = time.time()  # Record the start time\n",
    "        func()  # Execute the original function\n",
    "        end_time = time.time()  # Record the end time\n",
    "        execution_time = end_time - start_time  # Calculate the execution time\n",
    "        print(f\"Function '{func.__name__}' executed in {execution_time:.4f} seconds\")\n",
    "    return wrapper\n",
    "\n",
    "# Apply the decorator to a function that performs a small delay\n",
    "@simple_timer\n",
    "def perform_task():\n",
    "    print(\"Task is being performed...\")\n",
    "    time.sleep(2)  # Simulate a delay of 2 seconds\n",
    "\n",
    "# Call the decorated function and display the execution time\n",
    "perform_task()"
   ]
  },
  {
   "cell_type": "code",
   "execution_count": null,
   "metadata": {},
   "outputs": [],
   "source": [
    "# Define the decorator to log the function name\n",
    "def simple_logger(func):\n",
    "    def wrapper():\n",
    "        print(f\"Executing function: {func.__name__}\")  # Log the function name\n",
    "        func()  # Execute the original function\n",
    "    return wrapper\n",
    "\n",
    "# Apply the decorator to a function that prints a greeting message\n",
    "@simple_logger\n",
    "def greet():\n",
    "    print(\"Hello, welcome!\")\n",
    "\n",
    "# Call the decorated function and display the logs\n",
    "greet()"
   ]
  },
  {
   "cell_type": "code",
   "execution_count": null,
   "metadata": {},
   "outputs": [],
   "source": [
    "# Define the decorator to convert the result to uppercase\n",
    "def to_uppercase(func):\n",
    "    def wrapper():\n",
    "        result = func()\n",
    "        return result.upper()  # Convert the result to uppercase\n",
    "    return wrapper\n",
    "\n",
    "# Apply the decorator to a function that returns a string\n",
    "@to_uppercase\n",
    "def greet():\n",
    "    return \"Hello, welcome to Python decorators!\"\n",
    "\n",
    "# Call the decorated function and display the result\n",
    "result = greet()\n",
    "print(result)\n"
   ]
  },
  {
   "cell_type": "code",
   "execution_count": null,
   "metadata": {},
   "outputs": [
    {
     "name": "stdout",
     "output_type": "stream",
     "text": [
      "amount withdrawed $'50000'\n",
      "640000\n"
     ]
    }
   ],
   "source": []
  },
  {
   "cell_type": "code",
   "execution_count": 13,
   "metadata": {},
   "outputs": [
    {
     "name": "stdout",
     "output_type": "stream",
     "text": [
      "Account Holder: Keyush\n",
      "Account Number: 23858798\n",
      "Current Balance: $690000\n",
      "Money deposited: $10000 in the bank account\n",
      "Amount withdrawn: $50000\n",
      "Current Balance: $650000\n"
     ]
    }
   ],
   "source": [
    "class Bank:\n",
    "    def __init__(self, account_number, account_holder, balance):\n",
    "        self.account_holder = account_holder\n",
    "        self.account_number = account_number\n",
    "        self.balance = balance\n",
    "    \n",
    "    def deposit(self, amount):\n",
    "        if amount > 0:\n",
    "            self.balance += amount\n",
    "            print(f\"Money deposited: ${amount} in the bank account\")\n",
    "        else:\n",
    "            print(\"Deposit amount should be positive\")\n",
    "    \n",
    "    def withdraw(self, amount):\n",
    "        if amount > 0:\n",
    "            if self.balance >= amount:\n",
    "                self.balance -= amount\n",
    "                print(f\"Amount withdrawn: ${amount}\")\n",
    "            else:\n",
    "                print(\"Insufficient balance\")\n",
    "        else:\n",
    "            print(\"Withdrawal amount should be positive\")\n",
    "    \n",
    "    def get_balance(self):\n",
    "        return self.balance\n",
    "    \n",
    "    def display_account_info(self):\n",
    "        print(f\"Account Holder: {self.account_holder}\")\n",
    "        print(f\"Account Number: {self.account_number}\")\n",
    "        print(f\"Current Balance: ${self.balance}\")\n",
    "\n",
    "# Main block\n",
    "if __name__ == \"__main__\":\n",
    "    # Create an account\n",
    "    account = Bank(\"23858798\", \"Keyush\", 690000)\n",
    "    \n",
    "    # Display initial account information\n",
    "    account.display_account_info()\n",
    "    \n",
    "    # Demonstrate deposit\n",
    "    account.deposit(10000)\n",
    "    \n",
    "    # Demonstrate withdrawal\n",
    "    account.withdraw(50000)\n",
    "    \n",
    "    # Check final balance\n",
    "    print(f\"Current Balance: ${account.get_balance()}\")"
   ]
  },
  {
   "cell_type": "markdown",
   "metadata": {},
   "source": [
    "the constructor..... approach where a class is derived from other class...polymorphism"
   ]
  },
  {
   "cell_type": "code",
   "execution_count": null,
   "metadata": {},
   "outputs": [],
   "source": [
    "# Base class: Employee\n",
    "class Employee:\n",
    "    def __init__(self, name, salary):\n",
    "        self.name = name\n",
    "        self.salary = salary\n",
    "\n",
    "    def get_details(self):\n",
    "        return f\"Name: {self.name}, Salary: {self.salary}\"\n",
    "\n",
    "# Derived class: Manager\n",
    "class Manager(Employee):\n",
    "    def __init__(self, name, salary, department):\n",
    "        super().__init__(name, salary)  # Initialize the base class attributes\n",
    "        self.department = department\n",
    "\n",
    "    # Override the get_details method\n",
    "    def get_details(self):\n",
    "        return f\"Name: {self.name}, Salary: {self.salary}, Department: {self.department}\"\n",
    "\n",
    "# Example usage\n",
    "employee = Employee(\"Alice\", 50000)\n",
    "manager = Manager(\"Bob\", 80000, \"Sales\")\n",
    "\n",
    "# Printing details\n",
    "print(employee.get_details())  # Output: Name: Alice, Salary: 50000\n",
    "print(manager.get_details())   # Output: Name: Bob, Salary: 80000, Department: Sales"
   ]
  },
  {
   "cell_type": "markdown",
   "metadata": {},
   "source": [
    "using the \"main\"method to call the instances of the classes construtor methods "
   ]
  },
  {
   "cell_type": "code",
   "execution_count": null,
   "metadata": {},
   "outputs": [],
   "source": [
    "class Employee:\n",
    "    def __init__(self, name, employee_id, salary):\n",
    "        self.name = name\n",
    "        self.employee_id = employee_id\n",
    "        self.salary = salary\n",
    "\n",
    "    def give_raise(self, amount):\n",
    "        self.salary += amount\n",
    "        print(f\"{self.name}'s salary increased by {amount}. New salary: {self.salary}\")\n",
    "\n",
    "    def get_details(self):\n",
    "        return f\"{self.name} (ID: {self.employee_id}): ${self.salary:.2f}\"\n",
    "\n",
    "    def __str__(self):\n",
    "        return f\"{self.name} (ID: {self.employee_id})\"\n",
    "\n",
    "\n",
    "class Department:\n",
    "    def __init__(self):\n",
    "        self.employees = []\n",
    "\n",
    "    def add_employee(self, employee):\n",
    "        self.employees.append(employee)\n",
    "        print(f\"Employee {employee.name} added to the department.\")\n",
    "\n",
    "    def remove_employee(self, employee_id):\n",
    "        for employee in self.employees:\n",
    "            if employee.employee_id == employee_id:\n",
    "                self.employees.remove(employee)\n",
    "                print(f\"Employee {employee.name} removed from the department.\")\n",
    "                return\n",
    "        print(f\"Employee with ID {employee_id} not found.\")\n",
    "\n",
    "    def get_highest_paid(self):\n",
    "        if not self.employees:\n",
    "            return \"No employees in the department.\"\n",
    "        highest_paid = max(self.employees, key=lambda emp: emp.salary)\n",
    "        return highest_paid.get_details()\n",
    "\n",
    "if __name__ == \"__main__\":\n",
    "    # Create employees\n",
    "    emp1 = Employee(\"Alice Johnson\", 101, 50000)\n",
    "    emp2 = Employee(\"Bob Smith\", 102, 60000)\n",
    "    emp3 = Employee(\"Charlie Brown\", 103, 55000)\n",
    "\n",
    "    # Create department\n",
    "    dept = Department()\n",
    "\n",
    "    # Add employees to the department\n",
    "    dept.add_employee(emp1)\n",
    "    dept.add_employee(emp2)\n",
    "    dept.add_employee(emp3)\n",
    "\n",
    "    # Give a raise to an employee\n",
    "    emp1.give_raise(5000)\n",
    "\n",
    "    # Get the highest-paid employee\n",
    "    print(\"Highest-paid employee:\", dept.get_highest_paid())\n",
    "\n",
    "    # Remove an employee\n",
    "    dept.remove_employee(102)\n",
    "\n",
    "    # Check highest-paid employee after removal\n",
    "    print(\"Highest-paid employee:\", dept.get_highest_paid())\n"
   ]
  },
  {
   "cell_type": "code",
   "execution_count": 29,
   "metadata": {},
   "outputs": [
    {
     "name": "stdout",
     "output_type": "stream",
     "text": [
      "the area is '12.566370614359172'\n"
     ]
    }
   ],
   "source": [
    "import math\n",
    "class Shape:\n",
    "    pass\n",
    "class Circle(Shape):\n",
    "    def __init__(self,radius):\n",
    "        self.radius=radius\n",
    "    def area(self):\n",
    "        return math.pi*self.radius*self.radius\n",
    "class Square(Shape):\n",
    "    def __init__(self,side):\n",
    "        self.side=side\n",
    "    def area(self):\n",
    "        return self.side*self.side\n",
    "\n",
    "def Printarea(Shape):\n",
    "    print(f\"the area is '{Shape.area()}'\")\n",
    "\n",
    "\n",
    "c=Circle(2)\n",
    "Printarea(c)"
   ]
  },
  {
   "cell_type": "code",
   "execution_count": 38,
   "metadata": {},
   "outputs": [
    {
     "name": "stdout",
     "output_type": "stream",
     "text": [
      "the fuel efficieny is '30'\n"
     ]
    }
   ],
   "source": [
    "class Vehicle:\n",
    "    def __init__(self,fuel_cap):\n",
    "        self.fuel_cap=fuel_cap\n",
    "    def fuel_eff(self):\n",
    "        pass\n",
    "\n",
    "class Car(Vehicle):\n",
    "    def __init__(self, fuel_cap,):\n",
    "        super().__init__(fuel_cap)\n",
    "\n",
    "    def fuel_eff(self):\n",
    "        return 30\n",
    "class Bike(Vehicle):\n",
    "    def __init__(self, fuel_cap):\n",
    "        super().__init__(fuel_cap)\n",
    "    def fuel_eff(self):\n",
    "        return 15\n",
    "    \n",
    "def print_fuel_eff(vehicle):\n",
    "    print(f\"the fuel efficieny is '{vehicle.fuel_eff()}'\")\n",
    "\n",
    "Bmw=Car(23)\n",
    "print_fuel_eff(Bmw)"
   ]
  },
  {
   "cell_type": "code",
   "execution_count": 43,
   "metadata": {},
   "outputs": [
    {
     "name": "stdout",
     "output_type": "stream",
     "text": [
      "33.0\n",
      "Cannot divide by zero\n",
      "input is not integer\n"
     ]
    }
   ],
   "source": [
    "def divide(a,b):\n",
    "    try:\n",
    "        return a / b\n",
    "    except ZeroDivisionError:\n",
    "        return \"Cannot divide by zero\"\n",
    "    except TypeError:\n",
    "        return \"input is not integer\"\n",
    "    \n",
    "print(divide(99,3))\n",
    "print(divide(2223,0))\n",
    "print(divide('e',2))"
   ]
  },
  {
   "cell_type": "code",
   "execution_count": 68,
   "metadata": {},
   "outputs": [
    {
     "data": {
      "text/plain": [
       "'unexpexted error occured'"
      ]
     },
     "execution_count": 68,
     "metadata": {},
     "output_type": "execute_result"
    }
   ],
   "source": [
    "def Read_file_integr(file_path):\n",
    "    try:\n",
    "        with open(file_path,'r') as file:\n",
    "             content=file.read()\n",
    "        if not content:\n",
    "            return \"file empty\"\n",
    "        return \"file contains valid content\"\n",
    "            \n",
    "        \n",
    "    except FileNotFoundError:\n",
    "        return \"file not found\"\n",
    "    except Exception as e:\n",
    "        return \"unexpexted error occured\"\n",
    "    \n",
    "file_path = r\"C:\\Users\\nisar\\OneDrive\\Desktop\\CSV files\\Expt_ProblemStatements\\train.csv\"\n",
    "result = Read_file_integr(file_path)\n",
    "result\n"
   ]
  },
  {
   "cell_type": "code",
   "execution_count": 69,
   "metadata": {},
   "outputs": [
    {
     "data": {
      "text/plain": [
       "True"
      ]
     },
     "execution_count": 69,
     "metadata": {},
     "output_type": "execute_result"
    }
   ],
   "source": [
    "os.path.exists(r\"C:\\Users\\nisar\\OneDrive\\Desktop\\CSV files\\Expt_ProblemStatements\\train.csv\")"
   ]
  },
  {
   "cell_type": "markdown",
   "metadata": {},
   "source": [
    "Backup system"
   ]
  },
  {
   "cell_type": "code",
   "execution_count": null,
   "metadata": {},
   "outputs": [],
   "source": [
    "import shutil\n",
    "import os\n",
    "def backup_files(source_file,backup_file):\n",
    "    try:\n",
    "        if not os.path.isfile(source_file):\n",
    "            return \"Error: Source File not Found\"\n",
    "        shutil.copy2(source_file,backup_file)\n",
    "        return \"BAckup created succesfully\"\n",
    "    except PermissionError:\n",
    "        return \"Permission denied\"\n",
    "    except IOError:\n",
    "        return \"IO error\"\n",
    "    except Exception as e:\n",
    "        return \"Unexpextecd error occured\"\n",
    "    \n",
    "#source=\" \" file paths\n",
    "#backup=\" \"\n",
    "#backup_files(source,backup)"
   ]
  },
  {
   "cell_type": "code",
   "execution_count": 78,
   "metadata": {},
   "outputs": [
    {
     "data": {
      "text/plain": [
       "{'error': \"'charmap' codec can't decode byte 0x9d in position 4977: character maps to <undefined>\"}"
      ]
     },
     "execution_count": 78,
     "metadata": {},
     "output_type": "execute_result"
    }
   ],
   "source": [
    "import csv\n",
    "\n",
    "def process_csv(file_path):\n",
    "    result = {}\n",
    "    try:\n",
    "        with open(file_path, 'r') as file:\n",
    "            reader = csv.reader(file)\n",
    "            header = next(reader, None)  # Skip header if present\n",
    "            if not header or len(header) < 2:\n",
    "                raise ValueError(\"CSV file must have at least two columns.\")\n",
    "\n",
    "            values = []\n",
    "            for row in reader:\n",
    "                if len(row) < 2:\n",
    "                    continue  # Skip rows with fewer than 2 columns\n",
    "                try:\n",
    "                    value = float(row[1])  # Convert second column to float\n",
    "                    values.append(value)\n",
    "                except ValueError:\n",
    "                    continue  # Skip rows where the second column is not a number\n",
    "\n",
    "            if not values:\n",
    "                raise ValueError(\"No valid numerical data found in the second column.\")\n",
    "\n",
    "            average_value = sum(values) / len(values)\n",
    "            result['average'] = average_value\n",
    "    except FileNotFoundError:\n",
    "        result['error'] = 'File not found.'\n",
    "    except ValueError as ve:\n",
    "        result['error'] = str(ve)\n",
    "    except IOError:\n",
    "        result['error'] = 'Error reading file.'\n",
    "    except Exception as e:\n",
    "        result['error'] = str(e)\n",
    "\n",
    "    return result\n",
    "\n",
    "process_csv(r\"C:\\Users\\nisar\\OneDrive\\Desktop\\CSV files\\Expt_ProblemStatements\\train.csv\")"
   ]
  },
  {
   "cell_type": "code",
   "execution_count": 81,
   "metadata": {},
   "outputs": [],
   "source": [
    "def file_analyse(file_path):\n",
    "    result={}\n",
    "    try:\n",
    "        with open(file_path,'r') as file:\n",
    "            lines=file.readline()\n",
    "            total_lines=sum(lines)\n",
    "            error_count=sum(lines.count('ERROR')for line in lines)\n",
    "            result[\"total_lines\"]=total_lines\n",
    "            result[\"total_errors\"]=error_count\n",
    "    except FileNotFoundError:\n",
    "        result[\"ERROR\"]=\"file not found\"\n",
    "    except IOError:\n",
    "        result[\"ERROR\"]=\"IO error\"\n",
    "    except Exception as e:\n",
    "        result[\"ERROR\"]=str(e)\n",
    "    return result"
   ]
  },
  {
   "cell_type": "code",
   "execution_count": 103,
   "metadata": {},
   "outputs": [
    {
     "name": "stdout",
     "output_type": "stream",
     "text": [
      "<class 'pandas.core.frame.DataFrame'>\n",
      "RangeIndex: 9800 entries, 0 to 9799\n",
      "Data columns (total 15 columns):\n",
      " #   Column         Non-Null Count  Dtype  \n",
      "---  ------         --------------  -----  \n",
      " 0   Order Date     9800 non-null   object \n",
      " 1   Ship Date      9800 non-null   object \n",
      " 2   Ship Mode      9800 non-null   object \n",
      " 3   Customer Name  9800 non-null   object \n",
      " 4   Segment        9800 non-null   object \n",
      " 5   Country        9800 non-null   object \n",
      " 6   City           9800 non-null   object \n",
      " 7   State          9800 non-null   object \n",
      " 8   Postal Code    9789 non-null   float64\n",
      " 9   Region         9800 non-null   object \n",
      " 10  Product ID     9800 non-null   object \n",
      " 11  Category       9800 non-null   object \n",
      " 12  Sub-Category   9800 non-null   object \n",
      " 13  Product Name   9800 non-null   object \n",
      " 14  Sales          9800 non-null   float64\n",
      "dtypes: float64(2), object(13)\n",
      "memory usage: 1.1+ MB\n",
      "None\n",
      "      Order Date   Ship Date       Ship Mode     Customer Name    Segment  \\\n",
      "0     08/11/2017  11/11/2017    Second Class       Claire Gute   Consumer   \n",
      "1     08/11/2017  11/11/2017    Second Class       Claire Gute   Consumer   \n",
      "2     12/06/2017  16/06/2017    Second Class   Darrin Van Huff  Corporate   \n",
      "3     11/10/2016  18/10/2016  Standard Class    Sean O'Donnell   Consumer   \n",
      "4     11/10/2016  18/10/2016  Standard Class    Sean O'Donnell   Consumer   \n",
      "...          ...         ...             ...               ...        ...   \n",
      "9795  21/05/2017  28/05/2017  Standard Class     Sally Hughsby  Corporate   \n",
      "9796  12/01/2016  17/01/2016  Standard Class  Cindy Schnelling  Corporate   \n",
      "9797  12/01/2016  17/01/2016  Standard Class  Cindy Schnelling  Corporate   \n",
      "9798  12/01/2016  17/01/2016  Standard Class  Cindy Schnelling  Corporate   \n",
      "9799  12/01/2016  17/01/2016  Standard Class  Cindy Schnelling  Corporate   \n",
      "\n",
      "            Country             City       State  Postal Code   Region  \\\n",
      "0     United States        Henderson    Kentucky      42420.0    South   \n",
      "1     United States        Henderson    Kentucky      42420.0    South   \n",
      "2     United States      Los Angeles  California      90036.0     West   \n",
      "3     United States  Fort Lauderdale     Florida      33311.0    South   \n",
      "4     United States  Fort Lauderdale     Florida      33311.0    South   \n",
      "...             ...              ...         ...          ...      ...   \n",
      "9795  United States          Chicago    Illinois      60610.0  Central   \n",
      "9796  United States           Toledo        Ohio      43615.0     East   \n",
      "9797  United States           Toledo        Ohio      43615.0     East   \n",
      "9798  United States           Toledo        Ohio      43615.0     East   \n",
      "9799  United States           Toledo        Ohio      43615.0     East   \n",
      "\n",
      "           Product ID         Category Sub-Category  \\\n",
      "0     FUR-BO-10001798        Furniture    Bookcases   \n",
      "1     FUR-CH-10000454        Furniture       Chairs   \n",
      "2     OFF-LA-10000240  Office Supplies       Labels   \n",
      "3     FUR-TA-10000577        Furniture       Tables   \n",
      "4     OFF-ST-10000760  Office Supplies      Storage   \n",
      "...               ...              ...          ...   \n",
      "9795  OFF-BI-10003429  Office Supplies      Binders   \n",
      "9796  OFF-AR-10001374  Office Supplies          Art   \n",
      "9797  TEC-PH-10004977       Technology       Phones   \n",
      "9798  TEC-PH-10000912       Technology       Phones   \n",
      "9799  TEC-AC-10000487       Technology  Accessories   \n",
      "\n",
      "                                           Product Name     Sales  \n",
      "0                     Bush Somerset Collection Bookcase  261.9600  \n",
      "1     Hon Deluxe Fabric Upholstered Stacking Chairs,...  731.9400  \n",
      "2     Self-Adhesive Address Labels for Typewriters b...   14.6200  \n",
      "3         Bretford CR4500 Series Slim Rectangular Table  957.5775  \n",
      "4                        Eldon Fold 'N Roll Cart System   22.3680  \n",
      "...                                                 ...       ...  \n",
      "9795  Cardinal HOLDit! Binder Insert Strips,Extra St...    3.7980  \n",
      "9796           BIC Brite Liner Highlighters, Chisel Tip   10.3680  \n",
      "9797                                        GE 30524EE4  235.1880  \n",
      "9798           Anker 24W Portable Micro USB Car Charger   26.3760  \n",
      "9799                SanDisk Cruzer 4 GB USB Flash Drive   10.3840  \n",
      "\n",
      "[9800 rows x 15 columns]\n",
      "      Order Date   Ship Date       Ship Mode     Customer Name    Segment  \\\n",
      "0     08/11/2017  11/11/2017    Second Class       Claire Gute   Consumer   \n",
      "1     08/11/2017  11/11/2017    Second Class       Claire Gute   Consumer   \n",
      "2     12/06/2017  16/06/2017    Second Class   Darrin Van Huff  Corporate   \n",
      "3     11/10/2016  18/10/2016  Standard Class    Sean O'Donnell   Consumer   \n",
      "4     11/10/2016  18/10/2016  Standard Class    Sean O'Donnell   Consumer   \n",
      "...          ...         ...             ...               ...        ...   \n",
      "9795  21/05/2017  28/05/2017  Standard Class     Sally Hughsby  Corporate   \n",
      "9796  12/01/2016  17/01/2016  Standard Class  Cindy Schnelling  Corporate   \n",
      "9797  12/01/2016  17/01/2016  Standard Class  Cindy Schnelling  Corporate   \n",
      "9798  12/01/2016  17/01/2016  Standard Class  Cindy Schnelling  Corporate   \n",
      "9799  12/01/2016  17/01/2016  Standard Class  Cindy Schnelling  Corporate   \n",
      "\n",
      "            Country             City       State  Postal Code   Region  \\\n",
      "0     United States        Henderson    Kentucky     0.427186    South   \n",
      "1     United States        Henderson    Kentucky     0.427186    South   \n",
      "2     United States      Los Angeles  California     0.906698     West   \n",
      "3     United States  Fort Lauderdale     Florida     0.335455    South   \n",
      "4     United States  Fort Lauderdale     Florida     0.335455    South   \n",
      "...             ...              ...         ...          ...      ...   \n",
      "9795  United States          Chicago    Illinois     0.610366  Central   \n",
      "9796  United States           Toledo        Ohio     0.439220     East   \n",
      "9797  United States           Toledo        Ohio     0.439220     East   \n",
      "9798  United States           Toledo        Ohio     0.439220     East   \n",
      "9799  United States           Toledo        Ohio     0.439220     East   \n",
      "\n",
      "           Product ID         Category Sub-Category  \\\n",
      "0     FUR-BO-10001798        Furniture    Bookcases   \n",
      "1     FUR-CH-10000454        Furniture       Chairs   \n",
      "2     OFF-LA-10000240  Office Supplies       Labels   \n",
      "3     FUR-TA-10000577        Furniture       Tables   \n",
      "4     OFF-ST-10000760  Office Supplies      Storage   \n",
      "...               ...              ...          ...   \n",
      "9795  OFF-BI-10003429  Office Supplies      Binders   \n",
      "9796  OFF-AR-10001374  Office Supplies          Art   \n",
      "9797  TEC-PH-10004977       Technology       Phones   \n",
      "9798  TEC-PH-10000912       Technology       Phones   \n",
      "9799  TEC-AC-10000487       Technology  Accessories   \n",
      "\n",
      "                                           Product Name     Sales  \n",
      "0                     Bush Somerset Collection Bookcase  0.011552  \n",
      "1     Hon Deluxe Fabric Upholstered Stacking Chairs,...  0.032313  \n",
      "2     Self-Adhesive Address Labels for Typewriters b...  0.000626  \n",
      "3         Bretford CR4500 Series Slim Rectangular Table  0.042280  \n",
      "4                        Eldon Fold 'N Roll Cart System  0.000968  \n",
      "...                                                 ...       ...  \n",
      "9795  Cardinal HOLDit! Binder Insert Strips,Extra St...  0.000148  \n",
      "9796           BIC Brite Liner Highlighters, Chisel Tip  0.000438  \n",
      "9797                                        GE 30524EE4  0.010369  \n",
      "9798           Anker 24W Portable Micro USB Car Charger  0.001146  \n",
      "9799                SanDisk Cruzer 4 GB USB Flash Drive  0.000439  \n",
      "\n",
      "[9800 rows x 15 columns]\n"
     ]
    },
    {
     "data": {
      "text/plain": [
       "<Axes: xlabel='Category', ylabel='Count'>"
      ]
     },
     "execution_count": 103,
     "metadata": {},
     "output_type": "execute_result"
    },
    {
     "data": {
      "image/png": "[encoded data removed]",
      "text/plain": [
       "<Figure size 640x480 with 1 Axes>"
      ]
     },
     "metadata": {},
     "output_type": "display_data"
    }
   ],
   "source": [
    "import numpy as np\n",
    "import pandas as pd\n",
    "import matplotlib.pyplot as plt\n",
    "import seaborn as sns\n",
    "from sklearn.preprocessing import MinMaxScaler,StandardScaler,OneHotEncoder\n",
    "from sklearn.impute import SimpleImputer,KNNImputer\n",
    "from sklearn.pipeline import Pipeline\n",
    "df=pd.read_csv(r\"C:\\Users\\nisar\\OneDrive\\Desktop\\CSV files\\Expt_ProblemStatements\\train.csv\")\n",
    "df=df.drop(columns=['Row ID','Order ID','Customer ID'])\n",
    "print(df.info())\n",
    "print(df)\n",
    "df['Category'].unique()\n",
    "numerical_cols=df.select_dtypes(include=['float']).columns\n",
    "cat_cols=df.select_dtypes(include=['object']).columns\n",
    "imputer=SimpleImputer(missing_values=np.nan,strategy=\"constant\")\n",
    "df[numerical_cols]=imputer.fit_transform(df[numerical_cols])\n",
    "scaler=MinMaxScaler()\n",
    "df[numerical_cols]=scaler.fit_transform(df[numerical_cols])\n",
    "print(df)\n",
    "sns.histplot(df[\"Category\"],kde=True,bins=4,color='purple')\n",
    "\n"
   ]
  },
  {
   "cell_type": "code",
   "execution_count": 107,
   "metadata": {},
   "outputs": [
    {
     "data": {
      "text/plain": [
       "<Axes: >"
      ]
     },
     "execution_count": 107,
     "metadata": {},
     "output_type": "execute_result"
    },
    {
     "data": {
      "image/png": "[encoded data removed]",
      "text/plain": [
       "<Figure size 640x480 with 2 Axes>"
      ]
     },
     "metadata": {},
     "output_type": "display_data"
    }
   ],
   "source": [
    "df[numerical_cols].corr()\n",
    "sns.heatmap(df[numerical_cols].corr())"
   ]
  },
  {
   "cell_type": "code",
   "execution_count": null,
   "metadata": {},
   "outputs": [
    {
     "data": {
      "text/plain": [
       "<Axes: xlabel='State', ylabel='Sales'>"
      ]
     },
     "execution_count": 112,
     "metadata": {},
     "output_type": "execute_result"
    },
    {
     "data": {
      "image/png": "[encoded data removed]",
      "text/plain": [
       "<Figure size 640x480 with 1 Axes>"
      ]
     },
     "metadata": {},
     "output_type": "display_data"
    }
   ],
   "source": [
    "sns.barplot(x=df['State'],y=df['Sales'],)"
   ]
  },
  {
   "cell_type": "code",
   "execution_count": null,
   "metadata": {},
   "outputs": [],
   "source": []
  }
 ],
 "metadata": {
  "colab": {
   "authorship_tag": "ABX9TyPbAkY+VDNY9jT1R+pqRAHw",
   "provenance": []
  },
  "kernelspec": {
   "display_name": "Python 3",
   "name": "python3"
  },
  "language_info": {
   "codemirror_mode": {
    "name": "ipython",
    "version": 3
   },
   "file_extension": ".py",
   "mimetype": "text/x-python",
   "name": "python",
   "nbconvert_exporter": "python",
   "pygments_lexer": "ipython3",
   "version": "3.11.9"
  }
 },
 "nbformat": 4,
 "nbformat_minor": 0
}
